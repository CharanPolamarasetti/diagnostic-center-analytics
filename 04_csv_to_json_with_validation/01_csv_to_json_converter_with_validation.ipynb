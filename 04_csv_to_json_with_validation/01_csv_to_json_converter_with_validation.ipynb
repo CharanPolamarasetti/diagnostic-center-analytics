{
 "cells": [
  {
   "cell_type": "code",
   "execution_count": 4,
   "id": "af8ea3cd",
   "metadata": {},
   "outputs": [
    {
     "name": "stdout",
     "output_type": "stream",
     "text": [
      "Converted: 02_departments_data.csv to 02_departments_data.json\n",
      "Converted: 03_staff_data.csv to 03_staff_data.json\n",
      "Converted: 04_patients_data.csv to 04_patients_data.json\n",
      "Converted: 05_visits_data.csv to 05_visits_data.json\n",
      "Converted: 06_appointments_data.csv to 06_appointments_data.json\n",
      "Converted: 07_billing_data.csv to 07_billing_data.json\n",
      "Converted: 08_tests_data.csv to 08_tests_data.json\n",
      "Converted: 09_test_results_data.csv to 09_test_results_data.json\n",
      "\n",
      "All CSV files converted to JSON successfully\n"
     ]
    }
   ],
   "source": [
    "import pandas as pd\n",
    "import json\n",
    "from pathlib import Path\n",
    "\n",
    "# Set up folder paths\n",
    "# This gets the current working directory\n",
    "base_folder = Path.cwd()\n",
    "\n",
    "# Define where the input CSV files are located\n",
    "input_folder = base_folder/\"02_data_cleaning\"\n",
    "\n",
    "# Define where the output JSON files should be saved\n",
    "output_folder = base_folder/\"04_csv_to_json_conversion\"\n",
    "\n",
    "\n",
    "# Define a function to convert a CSV file to JSON\n",
    "def convert_csv_to_json(csv_path: Path, json_path: Path):\n",
    "    try:\n",
    "        df = pd.read_csv(csv_path)\n",
    "        records = df.to_dict(orient=\"records\")\n",
    "\n",
    "        with open(json_path, \"w\", encoding=\"utf-8\") as f:\n",
    "            json.dump(records, f, indent=4, ensure_ascii=False)\n",
    "\n",
    "        print(f\"Converted: {csv_path.name} to {json_path.name}\")\n",
    "\n",
    "    except Exception as e:\n",
    "        print(f\"Error while converting {csv_path.name}: {e}\")\n",
    "\n",
    "# Loop through all CSV files in the input folder\n",
    "csv_files = input_folder.glob(\"*.csv\")\n",
    "\n",
    "for csv_file in csv_files:\n",
    "    json_file = output_folder/f\"{csv_file.stem}.json\"\n",
    "\n",
    "    # Conversion function call\n",
    "    convert_csv_to_json(csv_file, json_file)\n",
    "\n",
    "print(\"\\nAll CSV files converted to JSON successfully\")\n"
   ]
  },
  {
   "cell_type": "code",
   "execution_count": 4,
   "id": "544544b9",
   "metadata": {},
   "outputs": [
    {
     "name": "stdout",
     "output_type": "stream",
     "text": [
      "02_departments_data.csv: Record count matched, CSV=10, JSON=10\n",
      "03_staff_data.csv: Record count matched, CSV=500, JSON=500\n",
      "04_patients_data.csv: Record count matched, CSV=50000, JSON=50000\n",
      "05_visits_data.csv: Record count matched, CSV=200000, JSON=200000\n",
      "06_appointments_data.csv: Record count matched, CSV=100000, JSON=100000\n",
      "07_billing_data.csv: Record count matched, CSV=121124, JSON=121124\n",
      "08_tests_data.csv: Record count matched, CSV=100, JSON=100\n",
      "09_test_results_data.csv: Record count matched, CSV=500000, JSON=500000\n"
     ]
    }
   ],
   "source": [
    "# Conversion validation script\n",
    "\n",
    "import pandas as pd\n",
    "import json\n",
    "from pathlib import Path\n",
    "\n",
    "# Set up folder paths\n",
    "# This gets the current working directory\n",
    "base_folder = Path.cwd()\n",
    "\n",
    "# Define where the input CSV files are located\n",
    "input_folder = base_folder/\"02_data_cleaning\"\n",
    "\n",
    "# Define where the output JSON files should be saved\n",
    "output_folder = base_folder/\"04_csv_to_json_conversion\"\n",
    "\n",
    "# Loop through each CSV file\n",
    "for csv_file in input_folder.glob(\"*.csv\"):\n",
    "    json_file = output_folder/f\"{csv_file.stem}.json\"\n",
    "\n",
    "    try:\n",
    "        df_csv = pd.read_csv(csv_file)\n",
    "        with open(json_file, \"r\", encoding=\"utf-8\") as f:\n",
    "            json_data = json.load(f)\n",
    "\n",
    "        # Basic checks\n",
    "        csv_count = len(df_csv)\n",
    "        json_count = len(json_data)\n",
    "\n",
    "        if csv_count == json_count:\n",
    "            print(f\"{csv_file.name}: Record count matched, CSV={csv_count}, JSON={json_count}\")\n",
    "        else:\n",
    "            print(f\"{csv_file.name}: Mismatch CSV={csv_count}, JSON={json_count}\")\n",
    "\n",
    "    except Exception as e:\n",
    "        print(f\"Error while validating {csv_file.name}: {e}\")\n"
   ]
  },
  {
   "cell_type": "code",
   "execution_count": null,
   "id": "c30b266e",
   "metadata": {},
   "outputs": [],
   "source": []
  }
 ],
 "metadata": {
  "kernelspec": {
   "display_name": ".venv (3.13.5)",
   "language": "python",
   "name": "python3"
  },
  "language_info": {
   "codemirror_mode": {
    "name": "ipython",
    "version": 3
   },
   "file_extension": ".py",
   "mimetype": "text/x-python",
   "name": "python",
   "nbconvert_exporter": "python",
   "pygments_lexer": "ipython3",
   "version": "3.13.5"
  }
 },
 "nbformat": 4,
 "nbformat_minor": 5
}
